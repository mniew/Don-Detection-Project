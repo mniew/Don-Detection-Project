{
 "cells": [
  {
   "cell_type": "raw",
   "metadata": {},
   "source": [
    "#IMPORTS"
   ]
  },
  {
   "cell_type": "code",
   "execution_count": 27,
   "metadata": {},
   "outputs": [],
   "source": [
    "from distutils.version import StrictVersion\n",
    "import numpy as np\n",
    "import os\n",
    "import six.moves.urllib as urllib\n",
    "import sys\n",
    "import tarfile\n",
    "import tensorflow as tf\n",
    "import zipfile\n",
    "import time\n",
    "import serial\n",
    "\n",
    "from collections import defaultdict\n",
    "from io import StringIO\n",
    "from matplotlib import pyplot as plt\n",
    "from PIL import Image\n",
    "import time\n",
    "import serial\n",
    "\n",
    "\n",
    "# This is needed since the notebook is stored in the object_detection folder.\n",
    "sys.path.append(\"..\")\n",
    "from object_detection.utils import ops as utils_ops\n",
    "\n",
    "if StrictVersion(tf.__version__) < StrictVersion('1.9.0'):\n",
    "  raise ImportError('Please upgrade your TensorFlow installation to v1.9.* or later!')"
   ]
  },
  {
   "cell_type": "code",
   "execution_count": 28,
   "metadata": {},
   "outputs": [],
   "source": [
    "\n",
    "# This is needed to display the images.\n",
    "%matplotlib inline"
   ]
  },
  {
   "cell_type": "code",
   "execution_count": 29,
   "metadata": {},
   "outputs": [],
   "source": [
    "from utils import label_map_util\n",
    "\n",
    "from utils import visualization_utils as vis_util"
   ]
  },
  {
   "cell_type": "markdown",
   "metadata": {},
   "source": [
    "#Variables"
   ]
  },
  {
   "cell_type": "code",
   "execution_count": 30,
   "metadata": {},
   "outputs": [],
   "source": [
    "\n",
    "# What model to download.\n",
    "MODEL_NAME = 'inference_graph'\n",
    "\n",
    "# Path to frozen detection graph. This is the actual model that is used for the object detection.\n",
    "PATH_TO_FROZEN_GRAPH = MODEL_NAME + '/frozen_inference_graph.pb'\n",
    "\n",
    "# List of the strings that is used to add correct label for each box.\n",
    "PATH_TO_LABELS = os.path.join('training', 'labelmap.pbtxt')\n",
    "\n",
    "NUM_CLASSES = 6"
   ]
  },
  {
   "cell_type": "code",
   "execution_count": 31,
   "metadata": {},
   "outputs": [],
   "source": [
    "# opener = urllib.request.URLopener()\n",
    "# opener.retrieve(DOWNLOAD_BASE + MODEL_FILE, MODEL_FILE)\n",
    "# tar_file = tarfile.open(MODEL_FILE)\n",
    "# for file in tar_file.getmembers():\n",
    "#   file_name = os.path.basename(file.name)\n",
    "#   if 'frozen_inference_graph.pb' in file_name:\n",
    "#     tar_file.extract(file, os.getcwd())"
   ]
  },
  {
   "cell_type": "code",
   "execution_count": 32,
   "metadata": {},
   "outputs": [],
   "source": [
    "##LOAD FROZEN TENSORFLOW GRAPH##\n",
    "detection_graph = tf.Graph()\n",
    "with detection_graph.as_default():\n",
    "  od_graph_def = tf.GraphDef()\n",
    "  with tf.gfile.GFile(PATH_TO_FROZEN_GRAPH, 'rb') as fid:\n",
    "    serialized_graph = fid.read()\n",
    "    od_graph_def.ParseFromString(serialized_graph)\n",
    "    tf.import_graph_def(od_graph_def, name='')"
   ]
  },
  {
   "cell_type": "code",
   "execution_count": 33,
   "metadata": {},
   "outputs": [],
   "source": [
    "##Loading label map##\n",
    "label_map = label_map_util.load_labelmap(PATH_TO_LABELS)\n",
    "categories = label_map_util.convert_label_map_to_categories(label_map, max_num_classes=NUM_CLASSES, use_display_name=True)\n",
    "category_index = label_map_util.create_category_index(categories)\n"
   ]
  },
  {
   "cell_type": "code",
   "execution_count": 34,
   "metadata": {},
   "outputs": [],
   "source": [
    "##Helper code loades it into numpy array##\n",
    "def load_image_into_numpy_array(image):\n",
    "  (im_width, im_height) = image.size\n",
    "  if image.format == 'PNG':\n",
    "      image = image.convert('RGB')\n",
    "  return np.array(image.getdata()).reshape(\n",
    "      (im_height, im_width, 3)).astype(np.uint8)"
   ]
  },
  {
   "cell_type": "code",
   "execution_count": 35,
   "metadata": {},
   "outputs": [],
   "source": [
    "import pathlib\n",
    "\n",
    "\n",
    "# For the sake of simplicity we will use only 2 images:\n",
    "# image1.jpg\n",
    "# image2.jpg\n",
    "# If you want to test the code with your images, just add path to the images to the TEST_IMAGE_PATHS.\n",
    "PATH_TO_TEST_IMAGES_DIR = pathlib.Path('C:/Users/test/models/research/object_detection/test_images')\n",
    "TEST_IMAGE_PATHS = sorted(list(PATH_TO_TEST_IMAGES_DIR.glob(\"*.jpeg\")))\n",
    "TEST_IMAGE_PATHS\n",
    "\n",
    "# Size, in inches, of the output images.\n",
    "IMAGE_SIZE = (12, 8)"
   ]
  },
  {
   "cell_type": "code",
   "execution_count": 36,
   "metadata": {},
   "outputs": [],
   "source": [
    "##DETECTION##\n",
    "\n",
    "def run_inference_for_single_image(image, graph):\n",
    "  with graph.as_default():\n",
    "    with tf.Session() as sess:\n",
    "      # Get handles to input and output tensors\n",
    "      ops = tf.get_default_graph().get_operations()\n",
    "      all_tensor_names = {output.name for op in ops for output in op.outputs}\n",
    "      tensor_dict = {}\n",
    "      for key in [\n",
    "          'num_detections', 'detection_boxes', 'detection_scores',\n",
    "          'detection_classes', 'detection_masks'\n",
    "      ]:\n",
    "        tensor_name = key + ':0'\n",
    "        if tensor_name in all_tensor_names:\n",
    "          tensor_dict[key] = tf.get_default_graph().get_tensor_by_name(\n",
    "              tensor_name)\n",
    "      if 'detection_masks' in tensor_dict:\n",
    "        # The following processing is only for single image\n",
    "        detection_boxes = tf.squeeze(tensor_dict['detection_boxes'], [0])\n",
    "        detection_masks = tf.squeeze(tensor_dict['detection_masks'], [0])\n",
    "        # Reframe is required to translate mask from box coordinates to image coordinates and fit the image size.\n",
    "        real_num_detection = tf.cast(tensor_dict['num_detections'][0], tf.int32)\n",
    "        detection_boxes = tf.slice(detection_boxes, [0, 0], [real_num_detection, -1])\n",
    "        detection_masks = tf.slice(detection_masks, [0, 0, 0], [real_num_detection, -1, -1])\n",
    "        detection_masks_reframed = utils_ops.reframe_box_masks_to_image_masks(\n",
    "            detection_masks, detection_boxes, image.shape[0], image.shape[1])\n",
    "        detection_masks_reframed = tf.cast(\n",
    "            tf.greater(detection_masks_reframed, 0.5), tf.uint8)\n",
    "        # Follow the convention by adding back the batch dimension\n",
    "        tensor_dict['detection_masks'] = tf.expand_dims(\n",
    "            detection_masks_reframed, 0)\n",
    "      image_tensor = tf.get_default_graph().get_tensor_by_name('image_tensor:0')\n",
    "\n",
    "      # Run inference\n",
    "      output_dict = sess.run(tensor_dict,\n",
    "                             feed_dict={image_tensor: np.expand_dims(image, 0)})\n",
    "\n",
    "      # all outputs are float32 numpy arrays, so convert types as appropriate\n",
    "      output_dict['num_detections'] = int(output_dict['num_detections'][0])\n",
    "      output_dict['detection_classes'] = output_dict[\n",
    "          'detection_classes'][0].astype(np.uint8)\n",
    "      output_dict['detection_boxes'] = output_dict['detection_boxes'][0]\n",
    "      output_dict['detection_scores'] = output_dict['detection_scores'][0]\n",
    "      if 'detection_masks' in output_dict:\n",
    "        output_dict['detection_masks'] = output_dict['detection_masks'][0]\n",
    "  return output_dict"
   ]
  },
  {
   "cell_type": "code",
   "execution_count": 37,
   "metadata": {},
   "outputs": [],
   "source": [
    "# def draw_bounding_box_on_image(image,\n",
    "#                            ymin,\n",
    "#                            xmin,\n",
    "#                            ymax,\n",
    "#                            xmax,\n",
    "#                            color='red',\n",
    "#                            thickness=4,\n",
    "#                            display_str_list=(),\n",
    "#                            use_normalized_coordinates=True):\n",
    "#   \"\"\"Adds a bounding box to an image.\n",
    "#   Bounding box coordinates can be specified in either absolute (pixel) or\n",
    "#   normalized coordinates by setting the use_normalized_coordinates argument.\n",
    "#   Each string in display_str_list is displayed on a separate line above the\n",
    "#   bounding box in black text on a rectangle filled with the input 'color'.\n",
    "#   If the top of the bounding box extends to the edge of the image, the strings\n",
    "#   are displayed below the bounding box.\n",
    "#   Args:\n",
    "#     image: a PIL.Image object.\n",
    "#     ymin: ymin of bounding box.\n",
    "#     xmin: xmin of bounding box.\n",
    "#     ymax: ymax of bounding box.\n",
    "#     xmax: xmax of bounding box.\n",
    "#     color: color to draw bounding box. Default is red.\n",
    "#                                                                                         thickness: line thickness. Default value is 4.\n",
    "#     display_str_list: list of strings to display in box\n",
    "#                       (each to be shown on its own line).\n",
    "#     use_normalized_coordinates: If True (default), treat coordinates\n",
    "#       ymin, xmin, ymax, xmax as relative to the image.  Otherwise treat\n",
    "#       coordinates as absolute.\n",
    "#   \"\"\"\n",
    "#   draw = ImageDraw.Draw(image)\n",
    "#   im_width, im_height = image.size\n",
    "#   if use_normalized_coordinates:\n",
    "#     (left, right, top, bottom) = (xmin * im_width, xmax * im_width,\n",
    "#                                   ymin * im_height, ymax * im_height)"
   ]
  },
  {
   "cell_type": "code",
   "execution_count": 38,
   "metadata": {},
   "outputs": [],
   "source": [
    "\n",
    "# def output_to_serial():\n",
    "#   ser = serial.Serial('COM6', 9600)\n",
    "#     # Get the lanes we want to open\n",
    "#     # Maybe we do binary or something?\n",
    "#     # As in 001001 to open up lanes 3 and 6\n",
    "#   while True:\n",
    "#     print(\"here\")\n",
    "#     ser.write(b\"FUCK\")\n",
    "#     print(\"yo marek\")\n",
    "#     print(ser.read())\n",
    "#     while ser.read() != \"o\":\n",
    "#       print(\"waiting..\")\n",
    "#       time.sleep(1)\n",
    "#     print(\"fuck ya\")\n",
    "\n"
   ]
  },
  {
   "cell_type": "code",
   "execution_count": 39,
   "metadata": {},
   "outputs": [
    {
     "ename": "SyntaxError",
     "evalue": "invalid syntax (<ipython-input-39-29210fad7441>, line 63)",
     "output_type": "error",
     "traceback": [
      "\u001b[1;36m  File \u001b[1;32m\"<ipython-input-39-29210fad7441>\"\u001b[1;36m, line \u001b[1;32m63\u001b[0m\n\u001b[1;33m    position[centre] = '1'\u001b[0m\n\u001b[1;37m           ^\u001b[0m\n\u001b[1;31mSyntaxError\u001b[0m\u001b[1;31m:\u001b[0m invalid syntax\n"
     ]
    }
   ],
   "source": [
    "from PIL import Image\n",
    "import math\n",
    "\n",
    "for image_path in TEST_IMAGE_PATHS:\n",
    "  image = Image.open(image_path)\n",
    "  print(image_path)\n",
    "  # the array based representation of the image will be used later in order to prepare the\n",
    "  # result image with boxes and labels on it.\n",
    "  image_np = load_image_into_numpy_array(image)\n",
    "  # Expand dimensions since the model expects images to have shape: [1, None, None, 3]\n",
    "  image_np_expanded = np.expand_dims(image_np, axis=0)\n",
    "  # Actual detection.\n",
    "  output_dict = run_inference_for_single_image(image_np, detection_graph)\n",
    "  # Visualization of the results of a detection.\n",
    "  vis_util.visualize_boxes_and_labels_on_image_array(\n",
    "      image_np,\n",
    "      output_dict['detection_boxes'],\n",
    "      output_dict['detection_classes'],\n",
    "      output_dict['detection_scores'],\n",
    "      category_index,\n",
    "      instance_masks=output_dict.get('detection_masks'),\n",
    "      use_normalized_coordinates=True,\n",
    "      line_thickness=8)\n",
    "\n",
    "#   boxes = output_dict['detection_boxes']\n",
    "#   scores = output_dict['detection_scores']\n",
    "#   width, height = image.size\n",
    "#   box= np.squeeze(boxes)\n",
    "#   max_boxes_to_draw=box.shape[0]\n",
    "#   scores=np.squeeze(scores)\n",
    "#   min_score_thresh=0.8\n",
    "    \n",
    "#   for i in range (min(max_boxes_to_draw, box.shape[0])):\n",
    "#     if scores [i] > min_score_thresh:\n",
    "#       position = list(\"000000\")\n",
    "#       ymin = (int(box[i,0]*height))\n",
    "#       xmin = (int(box[i,1]*width))\n",
    "#       ymax = (int(box[i,2]*height))\n",
    "#       xmax = (int(box[i,3]*width))\n",
    "#       print(ymin,xmin,ymax,xmax)\n",
    "#       centre = math.floor(((xmin+xmax)/2)/(width/6)\n",
    "#       position[centre] = '1'\n",
    "#       print(centre)\n",
    "#       print(position)\n",
    "#       print(\"\".join(position))\n",
    "\n",
    "  boxes = output_dict['detection_boxes']\n",
    "  scores = output_dict['detection_scores']\n",
    "  width, height = image.size\n",
    "  box= np.squeeze(boxes)\n",
    "  max_boxes_to_draw=box.shape[0]\n",
    "  scores=np.squeeze(scores)\n",
    "  min_score_thresh=0.8\n",
    "  for i in range (min(max_boxes_to_draw, box.shape[0])):\n",
    "    if scores [i] > min_score_thresh:\n",
    "      position = list(\"000000\")\n",
    "      ymin = (int(box[i,0]*height))\n",
    "      xmin = (int(box[i,1]*width))\n",
    "      ymax = (int(box[i,2]*height))\n",
    "      xmax = (int(box[i,3]*width))\n",
    "      print(ymin,xmin,ymax,xmax)\n",
    "      centre = (math.floor(((xmin+xmax)/2)/(width/6))\n",
    "      position[centre] = '1'\n",
    "      print(centre)\n",
    "      print(position)\n",
    "      print(\"\".join(position))         \n",
    "    \n",
    "#       output_to_serial()\n",
    "    \n",
    "\n",
    "    \n",
    "  plt.figure(figsize=IMAGE_SIZE)\n",
    "  plt.imshow(image_np)"
   ]
  },
  {
   "cell_type": "code",
   "execution_count": null,
   "metadata": {},
   "outputs": [],
   "source": []
  },
  {
   "cell_type": "code",
   "execution_count": null,
   "metadata": {},
   "outputs": [],
   "source": []
  }
 ],
 "metadata": {
  "kernelspec": {
   "display_name": "gputest",
   "language": "python",
   "name": "gputest"
  },
  "language_info": {
   "codemirror_mode": {
    "name": "ipython",
    "version": 3
   },
   "file_extension": ".py",
   "mimetype": "text/x-python",
   "name": "python",
   "nbconvert_exporter": "python",
   "pygments_lexer": "ipython3",
   "version": "3.7.6"
  }
 },
 "nbformat": 4,
 "nbformat_minor": 2
}
